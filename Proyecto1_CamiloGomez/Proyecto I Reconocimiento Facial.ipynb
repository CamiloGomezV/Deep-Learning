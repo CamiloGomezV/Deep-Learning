{
 "cells": [
  {
   "cell_type": "markdown",
   "metadata": {},
   "source": [
    "# Proyecto I: Reconocimiento Facial de Personas\n",
    "\n",
    "En este proyecto vamos a desarrollar un sistema de reconocimiento de personas a travez de imagenes. El modelo desarrollado debe identificar al menos a 3 personas, y debe indicar si la persona esta sin tapabocas, con tapabocas o con el tapabocas mal puesto. Todas las demás personas para las cuales el modelo no haya sido entrenado deben identificarse como Persona desconocida, incluso personas que no se encuentren dentro del set de entrenamiento. A continuación se describe en detalle algunas consideraciones a tener en cuenta al desarrollar el modelo:\n",
    "\n",
    "1. El modelo debe ser desarrollado utilizando redes convolucionales y se espera que se haga una evaluación exhaustiva del modelo. Es decir, se deben evaluar diferentes metricas de comportamiento del modelo, asi mismo como mostrar las matrices de confusión. Todas las metricas que utilicen deben ir acompañadas de los intervalos de confidencia. Deben evaluar al menos 4 arquitecturas diferentes, donde 3 de estas deben ser arquitecturas entrenadas desde 0, y la cuarta **puede** ser una arquitectura importada (transfer learning).\n",
    "\n",
    "2. Además, aparte de realizar el test que siempre se hacer sobre el performance de la red (utilizando el set de prueba), deben probar la red al menos con un par de imagenes de las personas que debe reconocer pero que sean radicalmente diferentes a las imagenes que se usaron en entrenamiento, i.e. imagenes que ustedes crean sean dificiles para que la red las identifique de forma correcta.\n",
    "\n",
    "3. Para este proyecto ustedes deben generar su propio dataset de entrenamiento. Para esto debe tener en cuenta que una red aprende de los ejemplos que se le presentan en el entrenamiento. Este proyecto deben entregarlo en un notebook de Jupyter, cada paso debe estar suficientemente descrito en el notebook, y se debe incluir un análisis exhaustivo de los resultados. A parte de esto deben contestar las siguientes preguntas:\n",
    "\n",
    "     * ¿Qué criterio utilizarón para crear el dataset de entrenamiento y las imagenes de prueba que usaron en el punto 2?\n",
    "     * ¿Son consistentes los resultados obtenidos, es lo que esperaban? Aqui es importante que relacionen arquitectura con resultados y que hagan un analisis del tamaño del modelo, hiperparametros, etc...\n",
    "     * ¿Cómo pueden mejorar los resultados obtenidos?\n",
    "     \n",
    "En la entrega deben proporcionar todos los codigos, dentro del notebook, y la base de datos utilizada para entrenar. La fecha de entrega del proyecto es el **Jueves 17 de Marzo del 2022 a las 11:59 p.m**. Utilizando el link proporvcionado en el e-aulas. Mucha suerte!!!"
   ]
  },
  {
   "cell_type": "markdown",
   "metadata": {},
   "source": [
    "### Introducción\n",
    "\n",
    "En este notebook se presentan 4 modelos con diferentes arquitecturas. Cada uno de estos modelos ataca un mismo problema de clasificación de 10 clases donde se busca clasificar a 3 personas junto con el uso correcto, incorrecto y el no uso de tapabocas. Estas están dadas por\n",
    "\n",
    "| Clase | Persona | Uso de mascarilla | \n",
    "| :---: | :---: | :---: |\n",
    "| 0 | Camilo | con tapabocas |\n",
    "| 1 | Camilo | sin tapabocas |\n",
    "| 2 | Camilo | con tapabocas mal puesto |\n",
    "| 3 | Kelly  | con tapabocas |\n",
    "| 4 | Kelly  | sin tapabocas |\n",
    "| 5 | Kelly  | con tapabocas mal puesto |\n",
    "| 6 | Ana    | con tapabocas |\n",
    "| 7 | Ana    | sin tapabocas |\n",
    "| 8 | Ana    | con tapabocas mal puesto |\n",
    "| 9 | Otra   | N.a |"
   ]
  },
  {
   "cell_type": "markdown",
   "metadata": {},
   "source": [
    "### Desarrollo \n",
    "\n",
    "Para el desarrollo de este proyecto principalmente se hará uso de la librería tensorflow para la implementación de cada uno de los modelos y de la librería cv2 para el manejo de imágenes."
   ]
  },
  {
   "cell_type": "code",
   "execution_count": 1,
   "metadata": {},
   "outputs": [],
   "source": [
    "import tensorflow as tf\n",
    "from sklearn import metrics\n",
    "from sklearn.model_selection import train_test_split\n",
    "from tensorflow.keras.utils import to_categorical\n",
    "from sklearn.model_selection import cross_val_score\n",
    "\n",
    "import pandas as pd\n",
    "import numpy as np\n",
    "import cv2\n",
    "\n",
    "import glob\n",
    "\n",
    "from tabulate import tabulate\n",
    "import seaborn as sns\n",
    "\n",
    "import gradio as gr\n",
    "import matplotlib.pyplot as plt\n",
    "%matplotlib inline"
   ]
  },
  {
   "cell_type": "markdown",
   "metadata": {},
   "source": [
    "Primero, se definen las siguientes funciones auxiliares que facilitan la implementación y entendimiento del código."
   ]
  },
  {
   "cell_type": "markdown",
   "metadata": {},
   "source": [
    "La función `increased_data` aumenta la cantidad de datos haciendo uso de técnicas de balanceo de datos, específicamente, se utilizan funciones de desenfoque y mejora de nitidez para un conjunto de imágenes."
   ]
  },
  {
   "cell_type": "code",
   "execution_count": 2,
   "metadata": {},
   "outputs": [],
   "source": [
    "def increased_data(images):\n",
    "    new_images = []\n",
    "    \n",
    "    #Kernel to sharpen the image\n",
    "    kernel = np.array([[-1,-1,-1],\n",
    "                       [-1,9,-1],\n",
    "                       [-1,-1,-1]])\n",
    "    \n",
    "    for img in images:\n",
    "        new_images.append(img)\n",
    "        \n",
    "        img_blur = cv2.blur(img, (9,9))\n",
    "        new_images.append(img_blur)\n",
    "        \n",
    "        img_gaussian = cv2.GaussianBlur(img, (9,9), 0)\n",
    "        new_images.append(img_gaussian)\n",
    "        \n",
    "        img_sharpen = cv2.filter2D(img, -1, kernel)\n",
    "        new_images.append(img_sharpen)\n",
    "        \n",
    "    return new_images"
   ]
  },
  {
   "cell_type": "markdown",
   "metadata": {},
   "source": [
    "La función `normalitation`  como su nombre lo indica, realiza la normalizacion de cada imagen, este proceso se realiza separando cada capa de color de una imagen, se calcula la media y posteriormente se resta este valor a toda la capa de color."
   ]
  },
  {
   "cell_type": "code",
   "execution_count": 3,
   "metadata": {},
   "outputs": [],
   "source": [
    "def normalitation(imgs_with_mask, imgs_without_mask, imgs_mask_weared_incorrect, number_imgs):\n",
    "    \n",
    "    imgs_with_mask = np.divide(imgs_with_mask, 255)\n",
    "    imgs_without_mask = np.divide(imgs_without_mask, 255)\n",
    "    imgs_mask_weared_incorrect = np.divide(imgs_mask_weared_incorrect,255)\n",
    "\n",
    "    for i in range(number_imgs):\n",
    "        img = imgs_with_mask[i]\n",
    "        mean_r = np.mean(img[:,:,0])\n",
    "        mean_g = np.mean(img[:,:,1])\n",
    "        mean_b = np.mean(img[:,:,2])\n",
    "        mean_img = [mean_r, mean_g, mean_b]\n",
    "        imgs_with_mask[i] = np.subtract(imgs_with_mask[i], mean_img)\n",
    "\n",
    "\n",
    "        img1 = imgs_without_mask[i]\n",
    "        mean1_r = np.mean(img1[:,:,0])\n",
    "        mean1_g = np.mean(img1[:,:,1])\n",
    "        mean1_b = np.mean(img1[:,:,2])\n",
    "        mean1_img = [mean1_r, mean1_g, mean1_b]\n",
    "        imgs_without_mask[i] = np.subtract(imgs_without_mask[i], mean1_img)\n",
    "\n",
    "        img2 = imgs_mask_weared_incorrect[i]\n",
    "        mean2_r = np.mean(img2[:,:,0])\n",
    "        mean2_g = np.mean(img2[:,:,1])\n",
    "        mean2_b = np.mean(img2[:,:,2])\n",
    "        mean2_img = [mean2_r, mean2_g, mean2_b]\n",
    "        imgs_mask_weared_incorrect[i] = np.subtract(imgs_mask_weared_incorrect[i], mean2_img)\n",
    "    return imgs_with_mask, imgs_without_mask, imgs_mask_weared_incorrect"
   ]
  },
  {
   "cell_type": "markdown",
   "metadata": {},
   "source": [
    "La función `acc_loss_plot` realiza el plot de epoch vs loss y de epoch vs Accuracy."
   ]
  },
  {
   "cell_type": "code",
   "execution_count": 4,
   "metadata": {},
   "outputs": [],
   "source": [
    "def acc_loss_plot(history):\n",
    "    hist = history.history\n",
    "    x_arr = np.arange(len(hist['loss'])) + 1\n",
    "\n",
    "    fig = plt.figure(figsize=(12, 4))\n",
    "    ax = fig.add_subplot(1, 2, 1)\n",
    "    ax.plot(x_arr, hist['loss'], '-o', label='Train loss')\n",
    "    ax.plot(x_arr, hist['val_loss'], '--<', label='Validation loss')\n",
    "    ax.set_xlabel('Epoch', size=15)\n",
    "    ax.set_ylabel('Loss', size=15)\n",
    "    ax.legend(fontsize=15)\n",
    "    ax = fig.add_subplot(1, 2, 2)\n",
    "    ax.plot(x_arr, hist['accuracy'], '-o', label='Train acc.')\n",
    "    ax.plot(x_arr, hist['val_accuracy'], '--<', label='Validation acc.')\n",
    "    ax.legend(fontsize=15)\n",
    "    ax.set_xlabel('Epoch', size=15)\n",
    "    ax.set_ylabel('Accuracy', size=15)\n",
    "    \n",
    "    plt.show()"
   ]
  },
  {
   "cell_type": "markdown",
   "metadata": {},
   "source": [
    "La función `heat_map` realiza la grafica de la matriz de confusión."
   ]
  },
  {
   "cell_type": "code",
   "execution_count": 5,
   "metadata": {},
   "outputs": [],
   "source": [
    "def heat_map(test, predict):\n",
    "    y_pred = [np.argmax(predict[i], axis=0) for i in range(len(predict))]\n",
    "    y_test = [int(test[i][0]) for i in range(len(test))]\n",
    "    \n",
    "    confussion_matrix_net = metrics.confusion_matrix(y_test, y_pred)\n",
    "    class_names=[i for i in range(10)]\n",
    "    fig, ax = plt.subplots()\n",
    "    tick_marks = np.arange(len(class_names))\n",
    "    plt.xticks(tick_marks, class_names)\n",
    "    plt.yticks(tick_marks, class_names)\n",
    "\n",
    "    sns.heatmap(pd.DataFrame(confussion_matrix_net), cmap='viridis', annot=True,fmt='g')\n",
    "    plt.title('Mapa de calor', y=1.1)\n",
    "    plt.ylabel('True Label')\n",
    "    plt.xlabel('Predic Label')"
   ]
  },
  {
   "cell_type": "markdown",
   "metadata": {},
   "source": [
    "La función `model_metrics` crea una tabla compuesta de las principales métricas de un modelo (precisión, sensibilidad, f1, número de ocurrencias) donde se puede evaluar el rendimiento del mismo."
   ]
  },
  {
   "cell_type": "code",
   "execution_count": 6,
   "metadata": {},
   "outputs": [],
   "source": [
    "'''Se tiene que verificar la forma en la cual se pasa test y predict dado que son multiclase'''\n",
    "\n",
    "def model_metrics(test, predict):\n",
    "    \n",
    "    y_pred = [np.argmax(predict[i], axis=0) for i in range(len(predict))]\n",
    "    y_test = [int(test[i][0]) for i in range(len(test))]\n",
    "    \n",
    "    precision_net, recall_net, fscore_net, support_net = metrics.precision_recall_fscore_support(y_test, y_pred)\n",
    "    num_class = precision_net.shape[0]\n",
    "    info = []\n",
    "    for i in range(num_class):\n",
    "        metrics_class_i = [i, precision_net[i], recall_net[i], fscore_net[i], support_net[i]]\n",
    "        info.append(metrics_class_i)\n",
    "    print(tabulate(info, headers=[\"Clase\", \"Precision\", \"Sensitivity\", \"F1 Score\", \"number of occurrences\"]))"
   ]
  },
  {
   "cell_type": "markdown",
   "metadata": {},
   "source": [
    "### Carga de datos\n",
    "\n",
    "Para la construcción del conjunto de datos se consideró el uso de 15 imágenes por clase. Para todas las imágenes cargadas se realiza un redimensionamiento a un tamaño de (250,250) y también un escalamiento, de forma que los valores de los píxeles se encuentren en un rango de [0,1]. Luego de cargar los datos, se hace un incremento de datos con la función definida anteriormente `increased_data` y posteriormente se normalizan."
   ]
  },
  {
   "cell_type": "code",
   "execution_count": 7,
   "metadata": {},
   "outputs": [],
   "source": [
    "dim = (250, 250)\n",
    "number_imgs = 15"
   ]
  },
  {
   "cell_type": "code",
   "execution_count": 8,
   "metadata": {},
   "outputs": [],
   "source": [
    "p1_with_mask = glob.glob('Personas/Camilo/with_mask/*')\n",
    "p1_without_mask = glob.glob('Personas/Camilo/without_mask/*')\n",
    "p1_mask_weared_incorrect = glob.glob('Personas/Camilo/mask_weared_incorrect/*')\n",
    "\n",
    "p1_imgs_with = [cv2.resize(cv2.imread(i), dim, interpolation=cv2.INTER_LANCZOS4)\n",
    "                for i in p1_with_mask[:number_imgs]]\n",
    "p1_imgs_without = [cv2.resize(cv2.imread(i), dim, interpolation=cv2.INTER_LANCZOS4)\n",
    "                   for i in p1_without_mask[:number_imgs]]\n",
    "p1_imgs_weared_incorrect = [cv2.resize(cv2.imread(i), dim, interpolation=cv2.INTER_LANCZOS4)\n",
    "                            for i in p1_mask_weared_incorrect[:number_imgs]]\n",
    "\n",
    "p1_imgs_with = increased_data(p1_imgs_with)\n",
    "p1_imgs_without = increased_data(p1_imgs_without)\n",
    "p1_imgs_weared_incorrect = increased_data(p1_imgs_weared_incorrect)\n",
    "\n",
    "p1_imgs_w, p1_imgs_w_out, p1_imgs_incorrect = normalitation(p1_imgs_with,\n",
    "                                                            p1_imgs_without,\n",
    "                                                            p1_imgs_weared_incorrect,\n",
    "                                                            number_imgs)"
   ]
  },
  {
   "cell_type": "code",
   "execution_count": 9,
   "metadata": {},
   "outputs": [],
   "source": [
    "p2_with_mask = glob.glob('Personas/Kelly/with_mask/*')\n",
    "p2_without_mask = glob.glob('Personas/Kelly/without_mask/*')\n",
    "p2_mask_weared_incorrect = glob.glob('Personas/Kelly/mask_weared_incorrect/*')\n",
    "\n",
    "\n",
    "p2_imgs_with = [cv2.resize(cv2.imread(i), dim, interpolation=cv2.INTER_LANCZOS4)\n",
    "                for i in p2_with_mask[:number_imgs]]\n",
    "p2_imgs_without = [cv2.resize(cv2.imread(i), dim, interpolation=cv2.INTER_LANCZOS4)\n",
    "                   for i in p2_without_mask[:number_imgs]]\n",
    "p2_imgs_weared_incorrect = [cv2.resize(cv2.imread(i), dim, interpolation=cv2.INTER_LANCZOS4)\n",
    "                            for i in p2_mask_weared_incorrect[:number_imgs]]\n",
    "\n",
    "p2_imgs_with = increased_data(p2_imgs_with)\n",
    "p2_imgs_without = increased_data(p2_imgs_without)\n",
    "p2_imgs_weared_incorrect = increased_data(p2_imgs_weared_incorrect)\n",
    "\n",
    "p2_imgs_w, p2_imgs_w_out, p2_imgs_incorrect = normalitation(p2_imgs_with,\n",
    "                                                            p2_imgs_without,\n",
    "                                                            p2_imgs_weared_incorrect,\n",
    "                                                            number_imgs)"
   ]
  },
  {
   "cell_type": "code",
   "execution_count": 10,
   "metadata": {},
   "outputs": [],
   "source": [
    "p3_with_mask = glob.glob('Personas/Ana/with_mask/*')\n",
    "p3_without_mask = glob.glob('Personas/Ana/without_mask/*')\n",
    "p3_mask_weared_incorrect = glob.glob('Personas/Ana/mask_weared_incorrect/*')\n",
    "\n",
    "\n",
    "p3_imgs_with = [cv2.resize(cv2.imread(i), dim, interpolation=cv2.INTER_LANCZOS4)\n",
    "                for i in p3_with_mask[:number_imgs]]\n",
    "p3_imgs_without = [cv2.resize(cv2.imread(i), dim, interpolation=cv2.INTER_LANCZOS4)\n",
    "                   for i in p3_without_mask[:number_imgs]]\n",
    "p3_imgs_weared_incorrect = [cv2.resize(cv2.imread(i), dim, interpolation=cv2.INTER_LANCZOS4)\n",
    "                            for i in p3_mask_weared_incorrect[:number_imgs]]\n",
    "\n",
    "p3_imgs_with = increased_data(p3_imgs_with)\n",
    "p3_imgs_without = increased_data(p3_imgs_without)\n",
    "p3_imgs_weared_incorrect = increased_data(p3_imgs_weared_incorrect)\n",
    "\n",
    "p3_imgs_w, p3_imgs_w_out, p3_imgs_incorrect = normalitation(p3_imgs_with,\n",
    "                                                            p3_imgs_without,\n",
    "                                                            p3_imgs_weared_incorrect,\n",
    "                                                            number_imgs)"
   ]
  },
  {
   "cell_type": "code",
   "execution_count": 11,
   "metadata": {},
   "outputs": [],
   "source": [
    "others_p = glob.glob('Personas/otros/*')\n",
    "\n",
    "others_img = [cv2.resize(cv2.imread(i), dim, interpolation=cv2.INTER_LANCZOS4)\n",
    "                for i in others_p[:number_imgs]]\n",
    "\n",
    "others_img = increased_data(others_img)\n",
    "\n",
    "others_p_imgs, _, _ = normalitation(others_img, others_img, others_img, number_imgs)"
   ]
  },
  {
   "cell_type": "markdown",
   "metadata": {},
   "source": [
    "### Creación del dataset\n",
    "\n",
    "Una vez cargadas todas las imágenes se define el dataset concatenando todas las clases cargadas y creamos las respectivas etiquetas.\n"
   ]
  },
  {
   "cell_type": "code",
   "execution_count": 12,
   "metadata": {},
   "outputs": [],
   "source": [
    "X = np.concatenate((p1_imgs_w, p1_imgs_w_out, p1_imgs_incorrect,\n",
    "                    p2_imgs_w, p2_imgs_w_out, p2_imgs_incorrect,\n",
    "                    p3_imgs_w, p3_imgs_w_out, p3_imgs_incorrect,\n",
    "                    others_p_imgs))\n",
    "\n",
    "len_label = np.ones((len(p1_imgs_w),1))\n",
    "\n",
    "p1_label_with_mask = len_label*0\n",
    "p1_label_without_mask = len_label*1\n",
    "p1_label_incorrect = len_label*2\n",
    "\n",
    "p2_label_with_mask = len_label*3\n",
    "p2_label_without_mask = len_label*4\n",
    "p2_label_incorrect = len_label*5\n",
    "\n",
    "p3_label_with_mask = len_label*6\n",
    "p3_label_without_mask = len_label*7\n",
    "p3_label_incorrect = len_label*8\n",
    "\n",
    "other_label = len_label*9\n",
    "\n",
    "y = np.concatenate((p1_label_with_mask, p1_label_without_mask, p1_label_incorrect,\n",
    "                    p2_label_with_mask, p2_label_without_mask, p2_label_incorrect,\n",
    "                    p3_label_with_mask, p3_label_without_mask, p3_label_incorrect,\n",
    "                    other_label))"
   ]
  },
  {
   "cell_type": "markdown",
   "metadata": {},
   "source": [
    "Se dividen los datos en los conjuntos de prueba, entrenamiento y validación. Note que el conjunto de entrenamiento y validación  está compuesto por el 70% de las imágenes."
   ]
  },
  {
   "cell_type": "code",
   "execution_count": 13,
   "metadata": {},
   "outputs": [],
   "source": [
    "X_train, X_test, y_train, y_test = train_test_split(X,y, test_size=0.3, random_state=42)\n",
    "X_train, X_val, y_train, y_val = train_test_split(X_train, y_train, test_size=0.25, random_state=42)"
   ]
  },
  {
   "cell_type": "markdown",
   "metadata": {},
   "source": [
    "Dada la baja cantidad de observaciones, definimos un modelo auxiliar para aumentar la diversidad del conjunto de entrenamiento y validación. Este modelo está compuesto por 3 capas de preprocesamiento. La primera invierte aleatoriamente las imágenes, la segunda las gira aleatoriamente y la tercera ajusta aleatoriamente el contraste.\n"
   ]
  },
  {
   "cell_type": "code",
   "execution_count": 14,
   "metadata": {},
   "outputs": [],
   "source": [
    "data_augmentation = tf.keras.Sequential([\n",
    "    tf.keras.layers.RandomFlip(mode=\"horizontal_and_vertical\"),\n",
    "    tf.keras.layers.RandomRotation(factor=0.2),\n",
    "    tf.keras.layers.RandomContrast(0.5)\n",
    "])"
   ]
  },
  {
   "cell_type": "markdown",
   "metadata": {},
   "source": [
    "Estas capas de preprocesamiento se añaden a cada uno de los modelos definidos a continuación."
   ]
  },
  {
   "cell_type": "markdown",
   "metadata": {},
   "source": [
    "## Primer modelo"
   ]
  },
  {
   "cell_type": "code",
   "execution_count": 15,
   "metadata": {},
   "outputs": [
    {
     "name": "stdout",
     "output_type": "stream",
     "text": [
      "Model: \"sequential_1\"\n",
      "_________________________________________________________________\n",
      " Layer (type)                Output Shape              Param #   \n",
      "=================================================================\n",
      " sequential (Sequential)     (None, 250, 250, 3)       0         \n",
      "                                                                 \n",
      " Convolution_layer_1 (Conv2D  (None, 250, 250, 32)     2432      \n",
      " )                                                               \n",
      "                                                                 \n",
      " pool_layer_1 (MaxPooling2D)  (None, 125, 125, 32)     0         \n",
      "                                                                 \n",
      " Convolution_layer_2 (Conv2D  (None, 125, 125, 64)     51264     \n",
      " )                                                               \n",
      "                                                                 \n",
      " pool_layer_2 (MaxPooling2D)  (None, 62, 62, 64)       0         \n",
      "                                                                 \n",
      " flatten (Flatten)           (None, 246016)            0         \n",
      "                                                                 \n",
      " Fully_Connected_layer_1 (De  (None, 1024)             251921408 \n",
      " nse)                                                            \n",
      "                                                                 \n",
      " dropout (Dropout)           (None, 1024)              0         \n",
      "                                                                 \n",
      " Fully_Connected_layer_2 (De  (None, 10)               10250     \n",
      " nse)                                                            \n",
      "                                                                 \n",
      "=================================================================\n",
      "Total params: 251,985,354\n",
      "Trainable params: 251,985,354\n",
      "Non-trainable params: 0\n",
      "_________________________________________________________________\n"
     ]
    }
   ],
   "source": [
    "model_1 = tf.keras.Sequential()\n",
    "\n",
    "model_1.add(data_augmentation)\n",
    "\n",
    "#Layer\n",
    "model_1.add(tf.keras.layers.Conv2D(\n",
    "    filters= 32, kernel_size=(5,5), strides=(1,1),\n",
    "    padding='same', data_format='channels_last', \n",
    "    name='Convolution_layer_1', activation='relu'))\n",
    "\n",
    "#Add Max pooling layer\n",
    "model_1.add(tf.keras.layers.MaxPool2D(\n",
    "    pool_size=(2, 2), name='pool_layer_1'))\n",
    "\n",
    "#Add convolutional layer    \n",
    "model_1.add(tf.keras.layers.Conv2D(\n",
    "    filters=64, kernel_size=(5, 5),\n",
    "    strides=(1, 1), padding='same',\n",
    "    name='Convolution_layer_2', activation='relu'))\n",
    "\n",
    "model_1.add(tf.keras.layers.MaxPool2D(\n",
    "    pool_size=(2, 2), name='pool_layer_2'))\n",
    "\n",
    "#Add Flatten Layer\n",
    "model_1.add(tf.keras.layers.Flatten())\n",
    "\n",
    "#Add the Fully COnnected network\n",
    "model_1.add(tf.keras.layers.Dense(\n",
    "    units=1024, name='Fully_Connected_layer_1', \n",
    "    activation='relu'))\n",
    "\n",
    "model_1.add(tf.keras.layers.Dropout(\n",
    "    rate=0.5))\n",
    "    \n",
    "model_1.add(tf.keras.layers.Dense(\n",
    "    units=10, name='Fully_Connected_layer_2',\n",
    "    activation='softmax'))\n",
    "\n",
    "#The input shape\n",
    "model_1.build(input_shape=(None, dim[0], dim[1], 3))\n",
    "model_1.summary()"
   ]
  },
  {
   "cell_type": "code",
   "execution_count": 16,
   "metadata": {},
   "outputs": [],
   "source": [
    "model_1.compile(optimizer=tf.keras.optimizers.Adam(), loss= tf.keras.losses.SparseCategoricalCrossentropy(),\n",
    "              metrics=['accuracy'])"
   ]
  },
  {
   "cell_type": "code",
   "execution_count": 17,
   "metadata": {},
   "outputs": [
    {
     "name": "stdout",
     "output_type": "stream",
     "text": [
      "Epoch 1/15\n",
      "10/10 [==============================] - 37s 4s/step - loss: 8.7160 - accuracy: 0.1016 - val_loss: 2.3274 - val_accuracy: 0.0857\n",
      "Epoch 2/15\n",
      "10/10 [==============================] - 27s 3s/step - loss: 2.2819 - accuracy: 0.1270 - val_loss: 2.2865 - val_accuracy: 0.1333\n",
      "Epoch 3/15\n",
      "10/10 [==============================] - 28s 3s/step - loss: 2.2011 - accuracy: 0.1778 - val_loss: 2.2661 - val_accuracy: 0.1238\n",
      "Epoch 4/15\n",
      "10/10 [==============================] - 26s 3s/step - loss: 2.0227 - accuracy: 0.2635 - val_loss: 2.1748 - val_accuracy: 0.2000\n",
      "Epoch 5/15\n",
      "10/10 [==============================] - 27s 3s/step - loss: 1.9910 - accuracy: 0.2921 - val_loss: 1.9063 - val_accuracy: 0.2857\n",
      "Epoch 6/15\n",
      "10/10 [==============================] - 27s 3s/step - loss: 1.8618 - accuracy: 0.3206 - val_loss: 1.8838 - val_accuracy: 0.2476\n",
      "Epoch 7/15\n",
      "10/10 [==============================] - 27s 3s/step - loss: 1.7569 - accuracy: 0.3683 - val_loss: 1.6659 - val_accuracy: 0.3429\n",
      "Epoch 8/15\n",
      "10/10 [==============================] - 27s 3s/step - loss: 1.7355 - accuracy: 0.3746 - val_loss: 1.6830 - val_accuracy: 0.4286\n",
      "Epoch 9/15\n",
      "10/10 [==============================] - 27s 3s/step - loss: 1.6746 - accuracy: 0.3937 - val_loss: 1.7735 - val_accuracy: 0.4000\n",
      "Epoch 10/15\n",
      "10/10 [==============================] - 27s 3s/step - loss: 1.6084 - accuracy: 0.4381 - val_loss: 1.7016 - val_accuracy: 0.3714\n",
      "Epoch 11/15\n",
      "10/10 [==============================] - 27s 3s/step - loss: 1.4724 - accuracy: 0.4857 - val_loss: 1.4034 - val_accuracy: 0.4571\n",
      "Epoch 12/15\n",
      "10/10 [==============================] - 27s 3s/step - loss: 1.4280 - accuracy: 0.5111 - val_loss: 1.5837 - val_accuracy: 0.3905\n",
      "Epoch 13/15\n",
      "10/10 [==============================] - 27s 3s/step - loss: 1.3796 - accuracy: 0.5016 - val_loss: 1.5910 - val_accuracy: 0.3905\n",
      "Epoch 14/15\n",
      "10/10 [==============================] - 28s 3s/step - loss: 1.2392 - accuracy: 0.5365 - val_loss: 1.3452 - val_accuracy: 0.4762\n",
      "Epoch 15/15\n",
      "10/10 [==============================] - 27s 3s/step - loss: 1.2350 - accuracy: 0.5937 - val_loss: 1.4933 - val_accuracy: 0.4095\n"
     ]
    }
   ],
   "source": [
    "#train the model\n",
    "history_1 = model_1.fit(X_train,y_train, validation_data=(X_val,y_val), epochs=15, shuffle=True)"
   ]
  },
  {
   "cell_type": "code",
   "execution_count": 18,
   "metadata": {
    "scrolled": true
   },
   "outputs": [
    {
     "data": {
      "image/png": "[encoded data removed]",
      "text/plain": [
       "<Figure size 864x288 with 2 Axes>"
      ]
     },
     "metadata": {
      "needs_background": "light"
     },
     "output_type": "display_data"
    }
   ],
   "source": [
    "acc_loss_plot(history_1)"
   ]
  },
  {
   "cell_type": "markdown",
   "metadata": {},
   "source": [
    "Fijándonos en la gráfica de costo vs épocas (loss vs epoch) podemos observar que la red puede ser más compleja dado que no está presente una brecha entre el conjunto de validación y entrenamiento. También, podemos observar que en la época 14 comienza a generarse esta brecha, observando simultáneamente la gráfica de  accuracy vs épocas podemos ver que la red aun tiene la capacidad de aprender por lo cual la red debería ser entrenada para una mayor cantidad de épocas. "
   ]
  },
  {
   "cell_type": "code",
   "execution_count": 19,
   "metadata": {
    "scrolled": true
   },
   "outputs": [
    {
     "name": "stdout",
     "output_type": "stream",
     "text": [
      "6/6 [==============================] - 3s 450ms/step - loss: 1.5812 - accuracy: 0.4778\n",
      "\n",
      "Test loss. 1.58\n",
      "Test Acc. 47.78%\n"
     ]
    }
   ],
   "source": [
    "test_results = model_1.evaluate(X_test, y_test)\n",
    "print('\\nTest loss. {:.2f}'.format(test_results[0]))\n",
    "print('Test Acc. {:.2f}%'.format(test_results[1]*100))"
   ]
  },
  {
   "cell_type": "markdown",
   "metadata": {},
   "source": [
    "Podemos ver que el accuracy aún tiene un valor muy bajo por lo cual el modelo no puede realizar una buena clasificación. "
   ]
  },
  {
   "cell_type": "code",
   "execution_count": 23,
   "metadata": {},
   "outputs": [],
   "source": [
    "y1_pred = model_1.predict(X_test)"
   ]
  },
  {
   "cell_type": "code",
   "execution_count": 24,
   "metadata": {
    "scrolled": true
   },
   "outputs": [
    {
     "data": {
      "image/png": "[encoded data removed]",
      "text/plain": [
       "<Figure size 432x288 with 2 Axes>"
      ]
     },
     "metadata": {
      "needs_background": "light"
     },
     "output_type": "display_data"
    }
   ],
   "source": [
    "heat_map(y_test, y1_pred)"
   ]
  },
  {
   "cell_type": "markdown",
   "metadata": {},
   "source": [
    "Observando la matriz de confusión podemos ver que las clases mejor clasificadas son las clases 4 y 9 que corresponden a: Kelly sin tapabocas y Otra persona (persona desconocida) podemos observar también que  la clase en la cual se presenta una mayor cantidad de falsos positivos es la clase 1 en la cual se ha clasificado como Camilo sin tapabocas cuando realmente pertenece a la clase Kelly sin tapabocas"
   ]
  },
  {
   "cell_type": "code",
   "execution_count": 25,
   "metadata": {
    "scrolled": true
   },
   "outputs": [
    {
     "name": "stdout",
     "output_type": "stream",
     "text": [
      "  Clase    Precision    Sensitivity    F1 Score    number of occurrences\n",
      "-------  -----------  -------------  ----------  -----------------------\n",
      "      0     0.538462       0.411765    0.466667                       17\n",
      "      1     1              0.142857    0.25                           28\n",
      "      2     0.636364       0.4375      0.518519                       16\n",
      "      3     0.666667       0.315789    0.428571                       19\n",
      "      4     0.297872       0.777778    0.430769                       18\n",
      "      5     0.461538       0.5         0.48                           12\n",
      "      6     0.666667       0.333333    0.444444                       18\n",
      "      7     0.37037        0.666667    0.47619                        15\n",
      "      8     0.366667       0.733333    0.488889                       15\n",
      "      9     0.882353       0.681818    0.769231                       22\n"
     ]
    }
   ],
   "source": [
    "model_metrics(y_test, y1_pred)"
   ]
  },
  {
   "cell_type": "markdown",
   "metadata": {},
   "source": [
    "En la tabla podemos confirmar las observaciones sobre la matriz de confusión. Podemos decir que la clase 4 es la que mayor sensitividad tiene. También, podemos ver que la clase 9 es la que mayor precisión tiene. Adicional a ello podemos ver que esta clase también tiene el mayor valor “F1 Score” el cual da un balance entre la sensitividad y la precisión atendiendo a que en este grupo es donde hay menor cantidad de FN (Falsos negativos), FP (Falsos positivos) y TN (verdaderos negratios)."
   ]
  },
  {
   "cell_type": "markdown",
   "metadata": {},
   "source": [
    "# Segundo modelo"
   ]
  },
  {
   "cell_type": "code",
   "execution_count": 26,
   "metadata": {},
   "outputs": [
    {
     "name": "stdout",
     "output_type": "stream",
     "text": [
      "Model: \"sequential_2\"\n",
      "_________________________________________________________________\n",
      " Layer (type)                Output Shape              Param #   \n",
      "=================================================================\n",
      " sequential (Sequential)     (None, 250, 250, 3)       0         \n",
      "                                                                 \n",
      " Convolution_layer_1 (Conv2D  (None, 250, 250, 100)    2800      \n",
      " )                                                               \n",
      "                                                                 \n",
      " MaxPooling_1 (MaxPooling2D)  (None, 125, 125, 100)    0         \n",
      "                                                                 \n",
      " Convolution_layer_2 (Conv2D  (None, 125, 125, 100)    90100     \n",
      " )                                                               \n",
      "                                                                 \n",
      " MaxPooling_2 (MaxPooling2D)  (None, 62, 62, 100)      0         \n",
      "                                                                 \n",
      " flatten_1 (Flatten)         (None, 384400)            0         \n",
      "                                                                 \n",
      " dropout_1 (Dropout)         (None, 384400)            0         \n",
      "                                                                 \n",
      " Dense_layer_1 (Dense)       (None, 50)                19220050  \n",
      "                                                                 \n",
      " Dense_layer_2 (Dense)       (None, 10)                510       \n",
      "                                                                 \n",
      "=================================================================\n",
      "Total params: 19,313,460\n",
      "Trainable params: 19,313,460\n",
      "Non-trainable params: 0\n",
      "_________________________________________________________________\n"
     ]
    }
   ],
   "source": [
    "model_2 = tf.keras.Sequential()\n",
    "\n",
    "model_2.add(data_augmentation)\n",
    "\n",
    "#Layer\n",
    "model_2.add(tf.keras.layers.Conv2D(\n",
    "    filters= 100, kernel_size=(3,3), strides=(1,1),\n",
    "    kernel_initializer = tf.keras.initializers.HeNormal(),\n",
    "    padding='same', data_format='channels_last', \n",
    "    name='Convolution_layer_1', activation='relu'))\n",
    "\n",
    "model_2.add(tf.keras.layers.MaxPooling2D(\n",
    "    pool_size=(2,2), name='MaxPooling_1'))\n",
    "\n",
    "model_2.add(tf.keras.layers.Conv2D(\n",
    "    filters = 100, kernel_size= (3,3), strides=(1,1),\n",
    "    kernel_initializer= tf.keras.initializers.HeNormal(),\n",
    "    padding='same', data_format='channels_last',\n",
    "    name='Convolution_layer_2', activation='relu'))\n",
    "\n",
    "model_2.add(tf.keras.layers.MaxPooling2D(\n",
    "    pool_size=(2,2), name='MaxPooling_2'))\n",
    "\n",
    "model_2.add(tf.keras.layers.Flatten())\n",
    "\n",
    "model_2.add(tf.keras.layers.Dropout(rate=0.5))\n",
    "\n",
    "model_2.add(tf.keras.layers.Dense(\n",
    "    units=50, name='Dense_layer_1',activation='relu'))\n",
    "\n",
    "model_2.add(tf.keras.layers.Dense(\n",
    "    units=10, name='Dense_layer_2', activation='softmax'))\n",
    "\n",
    "#The input shape\n",
    "model_2.build(input_shape=(None, 250, 250, 3))\n",
    "model_2.summary()"
   ]
  },
  {
   "cell_type": "code",
   "execution_count": 27,
   "metadata": {},
   "outputs": [],
   "source": [
    "model_2.compile(optimizer=tf.keras.optimizers.Adam(), loss= tf.keras.losses.SparseCategoricalCrossentropy(),\n",
    "              metrics=['accuracy'])"
   ]
  },
  {
   "cell_type": "code",
   "execution_count": 28,
   "metadata": {},
   "outputs": [
    {
     "name": "stdout",
     "output_type": "stream",
     "text": [
      "Epoch 1/10\n",
      "10/10 [==============================] - 28s 3s/step - loss: 10.6852 - accuracy: 0.1492 - val_loss: 2.2914 - val_accuracy: 0.2000\n",
      "Epoch 2/10\n",
      "10/10 [==============================] - 28s 3s/step - loss: 2.2265 - accuracy: 0.1937 - val_loss: 2.4963 - val_accuracy: 0.1714\n",
      "Epoch 3/10\n",
      "10/10 [==============================] - 29s 3s/step - loss: 2.1058 - accuracy: 0.2349 - val_loss: 2.2217 - val_accuracy: 0.2190\n",
      "Epoch 4/10\n",
      "10/10 [==============================] - 29s 3s/step - loss: 1.9914 - accuracy: 0.3143 - val_loss: 2.1970 - val_accuracy: 0.2476\n",
      "Epoch 5/10\n",
      "10/10 [==============================] - 29s 3s/step - loss: 1.8913 - accuracy: 0.3397 - val_loss: 2.1143 - val_accuracy: 0.3333\n",
      "Epoch 6/10\n",
      "10/10 [==============================] - 29s 3s/step - loss: 1.7578 - accuracy: 0.4222 - val_loss: 1.9609 - val_accuracy: 0.3524\n",
      "Epoch 7/10\n",
      "10/10 [==============================] - 30s 3s/step - loss: 1.6175 - accuracy: 0.4730 - val_loss: 1.6757 - val_accuracy: 0.4286\n",
      "Epoch 8/10\n",
      "10/10 [==============================] - 29s 3s/step - loss: 1.5958 - accuracy: 0.4698 - val_loss: 1.8631 - val_accuracy: 0.4952\n",
      "Epoch 9/10\n",
      "10/10 [==============================] - 30s 3s/step - loss: 1.5242 - accuracy: 0.5175 - val_loss: 1.4203 - val_accuracy: 0.4667\n",
      "Epoch 10/10\n",
      "10/10 [==============================] - 30s 3s/step - loss: 1.4060 - accuracy: 0.5048 - val_loss: 1.6318 - val_accuracy: 0.4476\n"
     ]
    }
   ],
   "source": [
    "#train the model\n",
    "history_2 = model_2.fit(X_train,y_train, validation_data=(X_val,y_val), epochs=10, shuffle=True)"
   ]
  },
  {
   "cell_type": "code",
   "execution_count": 29,
   "metadata": {
    "scrolled": false
   },
   "outputs": [
    {
     "data": {
      "image/png": "[encoded data removed]",
      "text/plain": [
       "<Figure size 864x288 with 2 Axes>"
      ]
     },
     "metadata": {
      "needs_background": "light"
     },
     "output_type": "display_data"
    }
   ],
   "source": [
    "acc_loss_plot(history_2)"
   ]
  },
  {
   "cell_type": "markdown",
   "metadata": {},
   "source": [
    "Podemos ver que este modelo, a pesar de ser mucho más pequeño que el anterior dado que se tiene una cantidad considerablemente menor de parámetros a entrenar, se obtienen resultados similares. Podemos ver que de igual forma la brecha entre las épocas y la función de costo es mínima y de igual forma el accuracy frente a las épocas mejora, por lo cual, esta arquitectura puede ser mucho más compleja o ser entrenada por una mayor cantidad de épocas para obtener mejores resultados. Cabe destacar que este modelo fue entrenado en una menor cantidad de épocas."
   ]
  },
  {
   "cell_type": "code",
   "execution_count": 30,
   "metadata": {},
   "outputs": [
    {
     "name": "stdout",
     "output_type": "stream",
     "text": [
      "6/6 [==============================] - 4s 663ms/step - loss: 1.7885 - accuracy: 0.4778\n",
      "\n",
      "Test loss. 1.79\n",
      "Test Acc. 47.78%\n"
     ]
    }
   ],
   "source": [
    "test_results = model_2.evaluate(X_test, y_test)\n",
    "print('\\nTest loss. {:.2f}'.format(test_results[0]))\n",
    "print('Test Acc. {:.2f}%'.format(test_results[1]*100))"
   ]
  },
  {
   "cell_type": "markdown",
   "metadata": {},
   "source": [
    "Podemos ver que, el accuracy de esta arquitectura es igual al anterior aunque el costo es mayor por 0.21"
   ]
  },
  {
   "cell_type": "code",
   "execution_count": 31,
   "metadata": {},
   "outputs": [],
   "source": [
    "y2_pred = model_2.predict(X_test)"
   ]
  },
  {
   "cell_type": "code",
   "execution_count": 32,
   "metadata": {
    "scrolled": true
   },
   "outputs": [
    {
     "data": {
      "image/png": "[encoded data removed]",
      "text/plain": [
       "<Figure size 432x288 with 2 Axes>"
      ]
     },
     "metadata": {
      "needs_background": "light"
     },
     "output_type": "display_data"
    }
   ],
   "source": [
    "heat_map(y_test, y2_pred)"
   ]
  },
  {
   "cell_type": "markdown",
   "metadata": {},
   "source": [
    "Analizando la matriz de confusión, vemos que las clases con una mayor cantidad de verdaderos positivos son las clases 2 y 8 que corresponden respectivamente a Camilo con tapabocas mal puesto y Ana con tapabocas mal puesto."
   ]
  },
  {
   "cell_type": "code",
   "execution_count": 33,
   "metadata": {},
   "outputs": [
    {
     "name": "stdout",
     "output_type": "stream",
     "text": [
      "  Clase    Precision    Sensitivity    F1 Score    number of occurrences\n",
      "-------  -----------  -------------  ----------  -----------------------\n",
      "      0     0.636364       0.411765    0.5                            17\n",
      "      1     0.529412       0.321429    0.4                            28\n",
      "      2     0.56           0.875       0.682927                       16\n",
      "      3     0.666667       0.315789    0.428571                       19\n",
      "      4     0.541667       0.722222    0.619048                       18\n",
      "      5     0.193548       0.5         0.27907                        12\n",
      "      6     0              0           0                              18\n",
      "      7     0.5625         0.6         0.580645                       15\n",
      "      8     0.405405       1           0.576923                       15\n",
      "      9     1              0.318182    0.482759                       22\n"
     ]
    }
   ],
   "source": [
    "model_metrics(y_test, y2_pred)"
   ]
  },
  {
   "cell_type": "markdown",
   "metadata": {},
   "source": [
    "Podemos ver que la clase con mejor puntaje en “F1 Score” es la clase 2. por otro lado es importante observar y resaltar que las clases 8 y 9 presentan un valor de 1 para la sensitividad y precisión respectivamente en vista de que, en estas clases no se presentó verdaderos negativos."
   ]
  },
  {
   "cell_type": "markdown",
   "metadata": {},
   "source": [
    "# Tercer modelo"
   ]
  },
  {
   "cell_type": "code",
   "execution_count": 57,
   "metadata": {},
   "outputs": [
    {
     "name": "stdout",
     "output_type": "stream",
     "text": [
      "Model: \"sequential_6\"\n",
      "_________________________________________________________________\n",
      " Layer (type)                Output Shape              Param #   \n",
      "=================================================================\n",
      " sequential_5 (Sequential)   (None, 250, 250, 3)       0         \n",
      "                                                                 \n",
      " Convolution_layer_1 (Conv2D  (None, 250, 250, 16)     448       \n",
      " )                                                               \n",
      "                                                                 \n",
      " MaxPooling_1 (MaxPooling2D)  (None, 125, 125, 16)     0         \n",
      "                                                                 \n",
      " Convolution_layer_2 (Conv2D  (None, 125, 125, 32)     4640      \n",
      " )                                                               \n",
      "                                                                 \n",
      " MaxPooling_2 (MaxPooling2D)  (None, 62, 62, 32)       0         \n",
      "                                                                 \n",
      " Convolution_layer_3 (Conv2D  (None, 62, 62, 64)       18496     \n",
      " )                                                               \n",
      "                                                                 \n",
      " MaxPooling_3 (MaxPooling2D)  (None, 31, 31, 64)       0         \n",
      "                                                                 \n",
      " Convolution_layer_4 (Conv2D  (None, 31, 31, 128)      73856     \n",
      " )                                                               \n",
      "                                                                 \n",
      " MaxPooling_4 (MaxPooling2D)  (None, 15, 15, 128)      0         \n",
      "                                                                 \n",
      " Convolution_layer_5 (Conv2D  (None, 15, 15, 256)      295168    \n",
      " )                                                               \n",
      "                                                                 \n",
      " MaxPooling_5 (MaxPooling2D)  (None, 7, 7, 256)        0         \n",
      "                                                                 \n",
      " flatten_3 (Flatten)         (None, 12544)             0         \n",
      "                                                                 \n",
      " dropout_4 (Dropout)         (None, 12544)             0         \n",
      "                                                                 \n",
      " Dense_layer_1 (Dense)       (None, 50)                627250    \n",
      "                                                                 \n",
      " Dense_layer_2 (Dense)       (None, 10)                510       \n",
      "                                                                 \n",
      "=================================================================\n",
      "Total params: 1,020,368\n",
      "Trainable params: 1,020,368\n",
      "Non-trainable params: 0\n",
      "_________________________________________________________________\n"
     ]
    }
   ],
   "source": [
    "model_3 = tf.keras.Sequential()\n",
    "\n",
    "model_3.add(data_augmentation)\n",
    "\n",
    "model_3.add(tf.keras.layers.Conv2D(\n",
    "    filters=16, kernel_size=(3,3), strides=(1,1),\n",
    "    kernel_initializer=tf.keras.initializers.HeNormal(),\n",
    "    padding='same', data_format='channels_last',\n",
    "    name='Convolution_layer_1', activation='relu'))\n",
    "\n",
    "model_3.add(tf.keras.layers.MaxPooling2D(\n",
    "    pool_size=(2,2), name='MaxPooling_1'))\n",
    "\n",
    "model_3.add(tf.keras.layers.Conv2D(\n",
    "    filters=32, kernel_size=(3,3), strides=(1,1),\n",
    "    kernel_initializer=tf.keras.initializers.HeNormal(),\n",
    "    padding='same', data_format='channels_last',\n",
    "    name='Convolution_layer_2', activation='relu'))\n",
    "\n",
    "model_3.add(tf.keras.layers.MaxPooling2D(\n",
    "    pool_size=(2,2), name='MaxPooling_2'))\n",
    "\n",
    "model_3.add(tf.keras.layers.Conv2D(\n",
    "    filters=64, kernel_size=(3,3), strides=(1,1),\n",
    "    kernel_initializer=tf.keras.initializers.HeNormal(),\n",
    "    padding='same', data_format='channels_last',\n",
    "    name='Convolution_layer_3', activation='relu'))\n",
    "\n",
    "model_3.add(tf.keras.layers.MaxPooling2D(\n",
    "    pool_size=(2,2), name='MaxPooling_3'))\n",
    "\n",
    "model_3.add(tf.keras.layers.Conv2D(\n",
    "    filters=128, kernel_size=(3,3), strides=(1,1),\n",
    "    kernel_initializer=tf.keras.initializers.HeNormal(),\n",
    "    padding='same', data_format='channels_last',\n",
    "    name='Convolution_layer_4', activation='relu'))\n",
    "\n",
    "model_3.add(tf.keras.layers.MaxPooling2D(\n",
    "    pool_size=(2,2), name='MaxPooling_4'))\n",
    "\n",
    "model_3.add(tf.keras.layers.Conv2D(\n",
    "    filters=256, kernel_size=(3,3), strides=(1,1),\n",
    "    kernel_initializer=tf.keras.initializers.HeNormal(),\n",
    "    padding='same', data_format='channels_last',\n",
    "    name='Convolution_layer_5', activation='relu'))\n",
    "\n",
    "model_3.add(tf.keras.layers.MaxPooling2D(\n",
    "    pool_size=(2,2), name='MaxPooling_5'))\n",
    "\n",
    "model_3.add(tf.keras.layers.Flatten())\n",
    "\n",
    "model_3.add(tf.keras.layers.Dropout(rate=0.5))\n",
    "\n",
    "model_3.add(tf.keras.layers.Dense(\n",
    "    units=50, name='Dense_layer_1',activation='relu'))\n",
    "\n",
    "model_3.add(tf.keras.layers.Dense(\n",
    "    units=10, name='Dense_layer_2', activation='softmax'))\n",
    "\n",
    "#The input shape\n",
    "model_3.build(input_shape=(None, 250, 250, 3))\n",
    "model_3.summary()"
   ]
  },
  {
   "cell_type": "code",
   "execution_count": 58,
   "metadata": {},
   "outputs": [],
   "source": [
    "model_3.compile(optimizer=tf.keras.optimizers.Adam(), loss= tf.keras.losses.SparseCategoricalCrossentropy(),\n",
    "              metrics=['accuracy'])"
   ]
  },
  {
   "cell_type": "code",
   "execution_count": 59,
   "metadata": {},
   "outputs": [
    {
     "name": "stdout",
     "output_type": "stream",
     "text": [
      "Epoch 1/25\n",
      "10/10 [==============================] - 8s 759ms/step - loss: 2.7004 - accuracy: 0.1492 - val_loss: 2.3349 - val_accuracy: 0.0952\n",
      "Epoch 2/25\n",
      "10/10 [==============================] - 8s 772ms/step - loss: 2.2207 - accuracy: 0.1556 - val_loss: 2.3570 - val_accuracy: 0.2095\n",
      "Epoch 3/25\n",
      "10/10 [==============================] - 8s 840ms/step - loss: 2.1190 - accuracy: 0.1968 - val_loss: 2.1711 - val_accuracy: 0.1524\n",
      "Epoch 4/25\n",
      "10/10 [==============================] - 8s 792ms/step - loss: 1.9404 - accuracy: 0.2825 - val_loss: 2.0635 - val_accuracy: 0.2476\n",
      "Epoch 5/25\n",
      "10/10 [==============================] - 8s 812ms/step - loss: 1.8059 - accuracy: 0.3524 - val_loss: 1.8163 - val_accuracy: 0.3810\n",
      "Epoch 6/25\n",
      "10/10 [==============================] - 8s 832ms/step - loss: 1.6162 - accuracy: 0.4063 - val_loss: 1.6927 - val_accuracy: 0.3619\n",
      "Epoch 7/25\n",
      "10/10 [==============================] - 8s 807ms/step - loss: 1.4510 - accuracy: 0.4571 - val_loss: 1.5355 - val_accuracy: 0.3333\n",
      "Epoch 8/25\n",
      "10/10 [==============================] - 8s 805ms/step - loss: 1.4201 - accuracy: 0.5016 - val_loss: 1.2875 - val_accuracy: 0.5048\n",
      "Epoch 9/25\n",
      "10/10 [==============================] - 8s 808ms/step - loss: 1.2351 - accuracy: 0.5333 - val_loss: 1.1907 - val_accuracy: 0.5143\n",
      "Epoch 10/25\n",
      "10/10 [==============================] - 8s 808ms/step - loss: 1.0242 - accuracy: 0.6159 - val_loss: 1.2214 - val_accuracy: 0.5714\n",
      "Epoch 11/25\n",
      "10/10 [==============================] - 8s 838ms/step - loss: 1.0222 - accuracy: 0.6159 - val_loss: 1.0613 - val_accuracy: 0.5143\n",
      "Epoch 12/25\n",
      "10/10 [==============================] - 9s 928ms/step - loss: 0.8073 - accuracy: 0.6698 - val_loss: 1.0267 - val_accuracy: 0.5619\n",
      "Epoch 13/25\n",
      "10/10 [==============================] - 10s 961ms/step - loss: 0.7197 - accuracy: 0.7333 - val_loss: 0.9238 - val_accuracy: 0.6476\n",
      "Epoch 14/25\n",
      "10/10 [==============================] - 10s 977ms/step - loss: 0.6984 - accuracy: 0.7460 - val_loss: 0.8751 - val_accuracy: 0.6476\n",
      "Epoch 15/25\n",
      "10/10 [==============================] - 8s 823ms/step - loss: 0.6513 - accuracy: 0.7524 - val_loss: 0.9386 - val_accuracy: 0.5810\n",
      "Epoch 16/25\n",
      "10/10 [==============================] - 8s 816ms/step - loss: 0.5570 - accuracy: 0.8000 - val_loss: 0.8603 - val_accuracy: 0.6762\n",
      "Epoch 17/25\n",
      "10/10 [==============================] - 8s 818ms/step - loss: 0.5871 - accuracy: 0.8063 - val_loss: 0.8735 - val_accuracy: 0.6762\n",
      "Epoch 18/25\n",
      "10/10 [==============================] - 8s 822ms/step - loss: 0.5107 - accuracy: 0.8127 - val_loss: 0.7316 - val_accuracy: 0.7333\n",
      "Epoch 19/25\n",
      "10/10 [==============================] - 8s 845ms/step - loss: 0.4549 - accuracy: 0.8413 - val_loss: 0.6966 - val_accuracy: 0.7524\n",
      "Epoch 20/25\n",
      "10/10 [==============================] - 8s 832ms/step - loss: 0.3740 - accuracy: 0.8635 - val_loss: 0.7056 - val_accuracy: 0.7524\n",
      "Epoch 21/25\n",
      "10/10 [==============================] - 8s 844ms/step - loss: 0.3586 - accuracy: 0.8603 - val_loss: 0.8994 - val_accuracy: 0.7238\n",
      "Epoch 22/25\n",
      "10/10 [==============================] - 8s 837ms/step - loss: 0.5571 - accuracy: 0.7937 - val_loss: 0.9539 - val_accuracy: 0.7048\n",
      "Epoch 23/25\n",
      "10/10 [==============================] - 8s 822ms/step - loss: 0.5757 - accuracy: 0.7937 - val_loss: 0.8981 - val_accuracy: 0.6952\n",
      "Epoch 24/25\n",
      "10/10 [==============================] - 8s 811ms/step - loss: 0.4334 - accuracy: 0.8762 - val_loss: 0.8224 - val_accuracy: 0.7143\n",
      "Epoch 25/25\n",
      "10/10 [==============================] - 8s 819ms/step - loss: 0.4527 - accuracy: 0.8444 - val_loss: 0.8057 - val_accuracy: 0.7143\n"
     ]
    }
   ],
   "source": [
    "#train the model\n",
    "history_3 = model_3.fit(X_train, y_train, validation_data=(X_val,y_val), epochs=25, shuffle=True)"
   ]
  },
  {
   "cell_type": "code",
   "execution_count": 60,
   "metadata": {
    "scrolled": true
   },
   "outputs": [
    {
     "data": {
      "image/png": "[encoded data removed]",
      "text/plain": [
       "<Figure size 864x288 with 2 Axes>"
      ]
     },
     "metadata": {
      "needs_background": "light"
     },
     "output_type": "display_data"
    }
   ],
   "source": [
    "acc_loss_plot(history_3)"
   ]
  },
  {
   "cell_type": "markdown",
   "metadata": {},
   "source": [
    "Teniendo en cuenta los modelos anteriores, este es el modelo con la menor cantidad de parámetros totales pero así mismo es el modelo con la mayor cantidad de neuronas, dadas estas características y los recursos computacionales disponibles, podemos realizar un entrenamiento con una mayor cantidad de épocas. Observamos que el comportamiento del costo en función de las épocas, se puede percatar la brecha que se mantiene desde la época 15 aproximadamente, pero podemos ver también que esta no tiene un aumento frente a las épocas anteriores, por lo cual no se puede afirmar con certeza la existencia de sobreajuste."
   ]
  },
  {
   "cell_type": "code",
   "execution_count": 61,
   "metadata": {},
   "outputs": [
    {
     "name": "stdout",
     "output_type": "stream",
     "text": [
      "6/6 [==============================] - 1s 181ms/step - loss: 0.7944 - accuracy: 0.7333\n",
      "\n",
      "Test loss. 0.79\n",
      "Test Acc. 73.33%\n"
     ]
    }
   ],
   "source": [
    "test_results = model_3.evaluate(X_test, y_test)\n",
    "print('\\nTest loss. {:.2f}'.format(test_results[0]))\n",
    "print('Test Acc. {:.2f}%'.format(test_results[1]*100))"
   ]
  },
  {
   "cell_type": "markdown",
   "metadata": {},
   "source": [
    "Note que este modelo ya presenta un accuracy más aceptable y en comparativa a los anteriores modelos, tiene un buen accuracy, de igual forma, observando el costo vemos que este es menor a 1."
   ]
  },
  {
   "cell_type": "code",
   "execution_count": 62,
   "metadata": {},
   "outputs": [],
   "source": [
    "y3_pred = model_3.predict(X_test)"
   ]
  },
  {
   "cell_type": "code",
   "execution_count": 63,
   "metadata": {
    "scrolled": true
   },
   "outputs": [
    {
     "data": {
      "image/png": "[encoded data removed]",
      "text/plain": [
       "<Figure size 432x288 with 2 Axes>"
      ]
     },
     "metadata": {
      "needs_background": "light"
     },
     "output_type": "display_data"
    }
   ],
   "source": [
    "heat_map(y_test, y3_pred)"
   ]
  },
  {
   "cell_type": "markdown",
   "metadata": {},
   "source": [
    "Analizando la matriz de confusión, podemos notar que, dado que el modelo presenta un accuracy “bueno” la mayoría de las clases presenta una buena cantidad de verdaderos positivos."
   ]
  },
  {
   "cell_type": "code",
   "execution_count": 64,
   "metadata": {},
   "outputs": [
    {
     "name": "stdout",
     "output_type": "stream",
     "text": [
      "  Clase    Precision    Sensitivity    F1 Score    number of occurrences\n",
      "-------  -----------  -------------  ----------  -----------------------\n",
      "      0     0.764706       0.764706    0.764706                       17\n",
      "      1     0.956522       0.785714    0.862745                       28\n",
      "      2     1              0.4375      0.608696                       16\n",
      "      3     0.37931        0.578947    0.458333                       19\n",
      "      4     0.684211       0.722222    0.702703                       18\n",
      "      5     0.470588       0.666667    0.551724                       12\n",
      "      6     1              0.888889    0.941176                       18\n",
      "      7     0.7            0.933333    0.8                            15\n",
      "      8     0.789474       1           0.882353                       15\n",
      "      9     1              0.590909    0.742857                       22\n"
     ]
    }
   ],
   "source": [
    "model_metrics(y_test, y3_pred)"
   ]
  },
  {
   "cell_type": "markdown",
   "metadata": {},
   "source": [
    "Observando las diferentes métricas, podemos ver que, para la precisión, exceptuando dos valores (clase 3 y 5) todos los demás están por encima de 0.6. Adicional a ello, las clases 2, 6 y 9 que corresponden a Camilo con tapabocas mal puesto, Ana con tapabocas y Otros (persona desconocida) respectivamente tienen un valor de 1. Observando ahora la sensitividad, podemos notar que todos los valores exceptuando 1 (clase 2) son mayores a 0.5. Ahora bien, la clase con mayor valor para “F1 Score” es la clase 6 (Ana con tapabocas). Analizando esta clase (6), podemos inferir que estos resultados se deben a la similaridad de las fotos con las cuales fue creado el dataset."
   ]
  },
  {
   "cell_type": "markdown",
   "metadata": {},
   "source": [
    "# Cuarto modelo"
   ]
  },
  {
   "cell_type": "markdown",
   "metadata": {},
   "source": [
    "Este modelo hace uso de una arquitectura importada. La arquitectura a usar es ResNet50, la cual es una red convolucional de 50 capas de profundidad que fue pre estrenada con más de un millón de imágenes del dataset `ImageNet` las cuales fueron clasificadas en 1000 categorías.\n",
    "\n",
    "Para cumplir con el fin de nuestro proyecto, se adaptó la arquitectura de ResNet50 para que reciba imágenes de tamaño (250,250,3), adicionalmente se definen 2 capas de pre entrenamiento para hacer un aumento de datos donde se invierte y rota aleatoriamente las imágenes. Dado que este modelo implementa una arquitectura pre entrenada, no se hace el uso de las 3 capas de aumento de datos definidas para los modelos anteriores. \n",
    "\n",
    "Por último, es importante resaltar que los valores de los parámetros de la red ResNet50 no son alterados y solamente se entrenan los pesos de las últimas capas "
   ]
  },
  {
   "cell_type": "code",
   "execution_count": 43,
   "metadata": {},
   "outputs": [
    {
     "name": "stdout",
     "output_type": "stream",
     "text": [
      "Model: \"model\"\n",
      "_________________________________________________________________\n",
      " Layer (type)                Output Shape              Param #   \n",
      "=================================================================\n",
      " input_2 (InputLayer)        [(None, 250, 250, 3)]     0         \n",
      "                                                                 \n",
      " sequential_5 (Sequential)   (None, 250, 250, 3)       0         \n",
      "                                                                 \n",
      " tf.__operators__.getitem (S  (None, 250, 250, 3)      0         \n",
      " licingOpLambda)                                                 \n",
      "                                                                 \n",
      " tf.nn.bias_add (TFOpLambda)  (None, 250, 250, 3)      0         \n",
      "                                                                 \n",
      " resnet50 (Functional)       (None, 8, 8, 2048)        23587712  \n",
      "                                                                 \n",
      " global_average_pooling2d (G  (None, 2048)             0         \n",
      " lobalAveragePooling2D)                                          \n",
      "                                                                 \n",
      " dropout_3 (Dropout)         (None, 2048)              0         \n",
      "                                                                 \n",
      " dense (Dense)               (None, 10)                20490     \n",
      "                                                                 \n",
      "=================================================================\n",
      "Total params: 23,608,202\n",
      "Trainable params: 20,490\n",
      "Non-trainable params: 23,587,712\n",
      "_________________________________________________________________\n"
     ]
    }
   ],
   "source": [
    "model_4_base = tf.keras.applications.ResNet50(\n",
    "    weights=\"imagenet\", \n",
    "    input_shape = (dim[0], dim[1], 3),\n",
    "    include_top=False,\n",
    ")\n",
    "\n",
    "model_4_base.trainable = False\n",
    "\n",
    "inputs = tf.keras.Input(shape = (dim[0], dim[1], 3))\n",
    "\n",
    "data_augmentation = tf.keras.Sequential(\n",
    "    [tf.keras.layers.RandomFlip(\"horizontal\"),\n",
    "     tf.keras.layers.RandomRotation(0.1),]\n",
    ")\n",
    "\n",
    "x = data_augmentation(inputs)\n",
    "\n",
    "x = tf.keras.applications.resnet.preprocess_input(x)\n",
    "\n",
    "x = model_4_base(x, training=False)\n",
    "x = tf.keras.layers.GlobalAveragePooling2D()(x)\n",
    "x = tf.keras.layers.Dropout(0.2)(x)  # Regularize with dropout\n",
    "\n",
    "outputs = tf.keras.layers.Dense(10)(x)\n",
    "model_4 = tf.keras.Model(inputs, outputs)\n",
    "\n",
    "model_4.summary()\n"
   ]
  },
  {
   "cell_type": "code",
   "execution_count": 44,
   "metadata": {},
   "outputs": [],
   "source": [
    "model_4.compile(optimizer=tf.keras.optimizers.Adam(), loss= tf.keras.losses.SparseCategoricalCrossentropy(),\n",
    "              metrics=['accuracy'])"
   ]
  },
  {
   "cell_type": "code",
   "execution_count": 45,
   "metadata": {},
   "outputs": [
    {
     "name": "stdout",
     "output_type": "stream",
     "text": [
      "Epoch 1/10\n",
      "10/10 [==============================] - 30s 3s/step - loss: 7.9464 - accuracy: 0.1079 - val_loss: 6.4388 - val_accuracy: 0.0667\n",
      "Epoch 2/10\n",
      "10/10 [==============================] - 27s 3s/step - loss: 6.9943 - accuracy: 0.0825 - val_loss: 6.3935 - val_accuracy: 0.0667\n",
      "Epoch 3/10\n",
      "10/10 [==============================] - 27s 3s/step - loss: 6.6994 - accuracy: 0.1016 - val_loss: 6.3972 - val_accuracy: 0.0762\n",
      "Epoch 4/10\n",
      "10/10 [==============================] - 30s 3s/step - loss: 6.6560 - accuracy: 0.0921 - val_loss: 6.3976 - val_accuracy: 0.0762\n",
      "Epoch 5/10\n",
      "10/10 [==============================] - 31s 3s/step - loss: 6.6500 - accuracy: 0.0984 - val_loss: 6.3976 - val_accuracy: 0.0762\n",
      "Epoch 6/10\n",
      "10/10 [==============================] - 28s 3s/step - loss: 6.6479 - accuracy: 0.1175 - val_loss: 6.3976 - val_accuracy: 0.0571\n",
      "Epoch 7/10\n",
      "10/10 [==============================] - 28s 3s/step - loss: 6.6513 - accuracy: 0.1048 - val_loss: 6.3976 - val_accuracy: 0.0667\n",
      "Epoch 8/10\n",
      "10/10 [==============================] - 31s 3s/step - loss: 6.6496 - accuracy: 0.0952 - val_loss: 6.3974 - val_accuracy: 0.0667\n",
      "Epoch 9/10\n",
      "10/10 [==============================] - 31s 3s/step - loss: 6.6469 - accuracy: 0.1365 - val_loss: 6.3974 - val_accuracy: 0.0667\n",
      "Epoch 10/10\n",
      "10/10 [==============================] - 28s 3s/step - loss: 6.6572 - accuracy: 0.0825 - val_loss: 6.3976 - val_accuracy: 0.0667\n"
     ]
    }
   ],
   "source": [
    "history_4 = model_4.fit(X_train, y_train, validation_data=(X_val,y_val), epochs=10, shuffle=True)"
   ]
  },
  {
   "cell_type": "code",
   "execution_count": 46,
   "metadata": {
    "scrolled": true
   },
   "outputs": [
    {
     "data": {
      "image/png": "[encoded data removed]",
      "text/plain": [
       "<Figure size 864x288 with 2 Axes>"
      ]
     },
     "metadata": {
      "needs_background": "light"
     },
     "output_type": "display_data"
    }
   ],
   "source": [
    "acc_loss_plot(history_4)"
   ]
  },
  {
   "cell_type": "markdown",
   "metadata": {},
   "source": [
    "Podemos observar que el valor de costo y accuracy para el conjunto de validación se estanca en un cierto intervalo de épocas."
   ]
  },
  {
   "cell_type": "code",
   "execution_count": 47,
   "metadata": {
    "scrolled": true
   },
   "outputs": [
    {
     "name": "stdout",
     "output_type": "stream",
     "text": [
      "6/6 [==============================] - 12s 2s/step - loss: 7.2291 - accuracy: 0.1222\n",
      "\n",
      "Test loss. 7.23\n",
      "Test Acc. 12.22%\n"
     ]
    }
   ],
   "source": [
    "test_results = model_4.evaluate(X_test, y_test)\n",
    "print('\\nTest loss. {:.2f}'.format(test_results[0]))\n",
    "print('Test Acc. {:.2f}%'.format(test_results[1]*100))"
   ]
  },
  {
   "cell_type": "markdown",
   "metadata": {},
   "source": [
    "Podemos ver que el modelo presenta el menor de los accuracy en comparativa a los modelos anteriores y de igual forma, presenta el mayor valor de costo."
   ]
  },
  {
   "cell_type": "code",
   "execution_count": 48,
   "metadata": {},
   "outputs": [],
   "source": [
    "y4_pred = model_4.predict(X_test)"
   ]
  },
  {
   "cell_type": "code",
   "execution_count": 49,
   "metadata": {
    "scrolled": true
   },
   "outputs": [
    {
     "data": {
      "image/png": "[encoded data removed]",
      "text/plain": [
       "<Figure size 432x288 with 2 Axes>"
      ]
     },
     "metadata": {
      "needs_background": "light"
     },
     "output_type": "display_data"
    }
   ],
   "source": [
    "heat_map(y_test, y4_pred)"
   ]
  },
  {
   "cell_type": "markdown",
   "metadata": {},
   "source": [
    "Note que, el modelo presenta fallas al momento de clasificar ya que, como se observa, todas las imágenes son clasificadas como otros (persona desconocida)"
   ]
  },
  {
   "cell_type": "code",
   "execution_count": 50,
   "metadata": {
    "scrolled": true
   },
   "outputs": [
    {
     "name": "stdout",
     "output_type": "stream",
     "text": [
      "  Clase    Precision    Sensitivity    F1 Score    number of occurrences\n",
      "-------  -----------  -------------  ----------  -----------------------\n",
      "      0     0                     0    0                              17\n",
      "      1     0                     0    0                              28\n",
      "      2     0                     0    0                              16\n",
      "      3     0                     0    0                              19\n",
      "      4     0                     0    0                              18\n",
      "      5     0                     0    0                              12\n",
      "      6     0                     0    0                              18\n",
      "      7     0                     0    0                              15\n",
      "      8     0                     0    0                              15\n",
      "      9     0.122222              1    0.217822                       22\n"
     ]
    },
    {
     "name": "stderr",
     "output_type": "stream",
     "text": [
      "C:\\Users\\camil\\AppData\\Local\\Packages\\PythonSoftwareFoundation.Python.3.7_qbz5n2kfra8p0\\LocalCache\\local-packages\\Python37\\site-packages\\sklearn\\metrics\\_classification.py:1318: UndefinedMetricWarning: Precision and F-score are ill-defined and being set to 0.0 in labels with no predicted samples. Use `zero_division` parameter to control this behavior.\n",
      "  _warn_prf(average, modifier, msg_start, len(result))\n"
     ]
    }
   ],
   "source": [
    "model_metrics(y_test, y4_pred)"
   ]
  },
  {
   "cell_type": "markdown",
   "metadata": {},
   "source": [
    "Dada la clasificación que genera el modelo, la única clase con valores distintos de 0 es la clase 9"
   ]
  },
  {
   "cell_type": "markdown",
   "metadata": {},
   "source": [
    "## Gui de prueba"
   ]
  },
  {
   "cell_type": "code",
   "execution_count": 51,
   "metadata": {},
   "outputs": [],
   "source": [
    "def choose_model(model_name, img):\n",
    "    models = {'Modelo 1': model_1,\n",
    "              'Modelo 2': model_2,\n",
    "              'Modelo 3': model_3,\n",
    "              'Modelo 4': model_4}\n",
    "    \n",
    "    model = models[model_name]\n",
    "    \n",
    "    mean_r = np.mean(img[:,:,0])\n",
    "    mean_g = np.mean(img[:,:,1])\n",
    "    mean_b = np.mean(img[:,:,2])\n",
    "    mean_img = [mean_r, mean_g, mean_b]\n",
    "    img_norm = np.subtract(img, mean_img)\n",
    "    \n",
    "    pred = model.predict(img_norm)\n",
    "    \n",
    "    #Idk if there is something\n",
    "    return pred"
   ]
  },
  {
   "cell_type": "code",
   "execution_count": 56,
   "metadata": {},
   "outputs": [
    {
     "name": "stdout",
     "output_type": "stream",
     "text": [
      "Running on local URL:  http://127.0.0.1:7861/\n",
      "Running on public URL: https://41659.gradio.app\n",
      "\n",
      "This share link expires in 72 hours. For free permanent hosting, check out Spaces (https://huggingface.co/spaces)\n"
     ]
    },
    {
     "data": {
      "text/html": [
       "\n",
       "        <iframe\n",
       "            width=\"900\"\n",
       "            height=\"500\"\n",
       "            src=\"https://41659.gradio.app\"\n",
       "            frameborder=\"0\"\n",
       "            allowfullscreen\n",
       "            \n",
       "        ></iframe>\n",
       "        "
      ],
      "text/plain": [
       "<IPython.lib.display.IFrame at 0x1e34a83b0c8>"
      ]
     },
     "metadata": {},
     "output_type": "display_data"
    },
    {
     "data": {
      "text/plain": [
       "(<fastapi.applications.FastAPI at 0x1e31f11d8c8>,\n",
       " 'http://127.0.0.1:7861/',\n",
       " 'https://41659.gradio.app')"
      ]
     },
     "execution_count": 56,
     "metadata": {},
     "output_type": "execute_result"
    }
   ],
   "source": [
    "iface = gr.Interface(\n",
    "    fn = choose_model,\n",
    "    inputs = [gr.inputs.Radio(['Modelo 1', 'Modelo 2', 'Modelo 3', 'Modelo 4']),\n",
    "              gr.inputs.Image()],\n",
    "    outputs = gr.outputs.Label(num_top_classes=3)\n",
    ")\n",
    "\n",
    "iface.launch(share=True)"
   ]
  },
  {
   "cell_type": "markdown",
   "metadata": {},
   "source": [
    "### Conclusiones"
   ]
  },
  {
   "cell_type": "markdown",
   "metadata": {},
   "source": [
    "* El criterio de creación del dataset y el uso de imágenes fue limitado por la capacidad computacional disponible ya que se tenía un limitado espacio de almacenamiento y uso de memoria RAM, de igual forma, esta limitación influye directamente en la cantidad de épocas de entrenamiento y en la definición de cada arquitectura. \n",
    "* Los resultados obtenidos en cada modelo exceptuando el cuarto, son consistentes con los datos presentados, ya que, dada la cantidad de estos, los modelos desempeñan un buen rendimiento.\n",
    "* El uso de técnicas de aumento de datos y balanceo puede ayudar a solventar las pocas imágenes recolectadas para el entrenamiento y prueba de los modelos\n",
    "* La normalización de los datos junto con las técnicas de inicialización de parámetros ayudan a que, con pocas épocas, los modelos presentan buenos resultados .\n",
    "* En los primeros 2 modelos se podría observar una mejora en los resultados si se utilizara una mayor cantidad de épocas.\n",
    "* Dados los datos y la similaridad entre las imágenes de cada clase, se condiciona el resultado de cada una de las clases. Como ejemplo de esto, se tiene la clase 6 donde la variación de las imágenes es poca por lo cual los modelos clasifican de mejor manera en este tipo de clases.\n"
   ]
  },
  {
   "cell_type": "code",
   "execution_count": null,
   "metadata": {},
   "outputs": [],
   "source": []
  }
 ],
 "metadata": {
  "kernelspec": {
   "display_name": "Python 3 (ipykernel)",
   "language": "python",
   "name": "python3"
  },
  "language_info": {
   "codemirror_mode": {
    "name": "ipython",
    "version": 3
   },
   "file_extension": ".py",
   "mimetype": "text/x-python",
   "name": "python",
   "nbconvert_exporter": "python",
   "pygments_lexer": "ipython3",
   "version": "3.7.9"
  }
 },
 "nbformat": 4,
 "nbformat_minor": 2
}
